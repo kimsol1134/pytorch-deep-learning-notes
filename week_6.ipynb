{
 "cells": [
  {
   "cell_type": "markdown",
   "metadata": {},
   "source": [
    "## 09 [NLP 입문] -NLP Basics\n",
    "### 09-01 Tokenization\n",
    "#### 1. Word Tokenization"
   ]
  },
  {
   "cell_type": "code",
   "execution_count": null,
   "metadata": {},
   "outputs": [
    {
     "name": "stderr",
     "output_type": "stream",
     "text": [
      "[nltk_data] Downloading package punkt_tab to\n",
      "[nltk_data]     /Users/solkim/nltk_data...\n",
      "[nltk_data]   Unzipping tokenizers/punkt_tab.zip.\n"
     ]
    },
    {
     "data": {
      "text/plain": [
       "True"
      ]
     },
     "execution_count": 8,
     "metadata": {},
     "output_type": "execute_result"
    }
   ],
   "source": [
    "# 토큰화 중 생기는 선택의 순간\n",
    "# Don't be fooled by the dark sounding name, Mr. Jone's Orphanage is as cheery as cheery goes for a pastry shop.\n",
    "# Don't , Jone's 토큰화 하는 방법 다양\n",
    "\n",
    "\n",
    "from nltk.tokenize import word_tokenize\n",
    "from nltk.tokenize import WordPunctTokenizer\n",
    "from tensorflow.keras.preprocessing.text import text_to_word_sequence\n",
    "import nltk\n",
    "\n",
    "nltk.download(\"punkt_tab\")"
   ]
  },
  {
   "cell_type": "code",
   "execution_count": null,
   "metadata": {},
   "outputs": [
    {
     "name": "stdout",
     "output_type": "stream",
     "text": [
      "단어 토큰화1 : ['Do', \"n't\", 'be', 'fooled', 'by', 'the', 'dark', 'sounding', 'name', ',', 'Mr.', 'Jone', \"'s\", 'Orphanage', 'is', 'as', 'cheery', 'as', 'cheery', 'goes', 'for', 'a', 'pastry', 'shop', '.']\n"
     ]
    }
   ],
   "source": [
    "# word_tokenize\n",
    "print(\n",
    "    \"단어 토큰화1 :\",\n",
    "    word_tokenize(\n",
    "        \"Don't be fooled by the dark sounding name, Mr. Jone's Orphanage is as cheery as cheery goes for a pastry shop.\"\n",
    "    ),\n",
    ")\n",
    "#'Do', \"n't\", 'Jone', \"'s\","
   ]
  },
  {
   "cell_type": "code",
   "execution_count": null,
   "metadata": {},
   "outputs": [
    {
     "name": "stdout",
     "output_type": "stream",
     "text": [
      "단어 토큰화2 : ['Don', \"'\", 't', 'be', 'fooled', 'by', 'the', 'dark', 'sounding', 'name', ',', 'Mr', '.', 'Jone', \"'\", 's', 'Orphanage', 'is', 'as', 'cheery', 'as', 'cheery', 'goes', 'for', 'a', 'pastry', 'shop', '.']\n"
     ]
    }
   ],
   "source": [
    "print(\n",
    "    \"단어 토큰화2 :\",\n",
    "    WordPunctTokenizer().tokenize(\n",
    "        \"Don't be fooled by the dark sounding name, Mr. Jone's Orphanage is as cheery as cheery goes for a pastry shop.\"\n",
    "    ),\n",
    ")\n",
    "#'Don', \"'\", 't','Jone', \"'\", 's'"
   ]
  },
  {
   "cell_type": "code",
   "execution_count": null,
   "metadata": {},
   "outputs": [
    {
     "name": "stdout",
     "output_type": "stream",
     "text": [
      "단어 토큰화3 : [\"don't\", 'be', 'fooled', 'by', 'the', 'dark', 'sounding', 'name', 'mr', \"jone's\", 'orphanage', 'is', 'as', 'cheery', 'as', 'cheery', 'goes', 'for', 'a', 'pastry', 'shop']\n"
     ]
    }
   ],
   "source": [
    "print(\n",
    "    \"단어 토큰화3 :\",\n",
    "    text_to_word_sequence(\n",
    "        \"Don't be fooled by the dark sounding name, Mr. Jone's Orphanage is as cheery as cheery goes for a pastry shop.\"\n",
    "    ),\n",
    ")\n",
    "# \"don't\", \"jone's\""
   ]
  },
  {
   "cell_type": "markdown",
   "metadata": {},
   "source": [
    "### 토큰화에서 고려해야할 사항\n",
    "1. 구두점, 특수문자 단순 제외해서는 안됨\n",
    "    1. 마침표(.)도 문장의 경계를 알 수 있음\n",
    "    2. 단어 자체에 구두점 있는 경우도 있음 Ph.D, $45.55\n",
    "2. 줄임말\n",
    "    1. we're -> re는 접어(clitic)\n",
    "3. 단어 내에 띄어쓰기가 있는 경우\n",
    "    1. New York 하나의 단어\n",
    "    2. rock 'n' roll\n",
    "4. 표준 토큰화 예제(Penn Treebank Tokenization)\n",
    "    1. 하이푼으로 구성된 단어는 하나로 유지\n",
    "    2. doesn't 와 같이 아포스트로피로 '접어'가 함꼐하는 단어는 분리해준다"
   ]
  },
  {
   "cell_type": "code",
   "execution_count": null,
   "metadata": {},
   "outputs": [
    {
     "name": "stdout",
     "output_type": "stream",
     "text": [
      "트리뱅크 워드토크나이저 : ['Starting', 'a', 'home-based', 'restaurant', 'may', 'be', 'an', 'ideal.', 'it', 'does', \"n't\", 'have', 'a', 'food', 'chain', 'or', 'restaurant', 'of', 'their', 'own', '.']\n"
     ]
    }
   ],
   "source": [
    "from nltk.tokenize import TreebankWordTokenizer\n",
    "\n",
    "tokenizer = TreebankWordTokenizer()\n",
    "\n",
    "text = \"Starting a home-based restaurant may be an ideal. it doesn't have a food chain or restaurant of their own.\"\n",
    "print(\"트리뱅크 워드토크나이저 :\", tokenizer.tokenize(text))"
   ]
  },
  {
   "cell_type": "markdown",
   "metadata": {},
   "source": [
    "### 문장 토큰화(Sentence Tokenization)\n",
    "1. Corpus 내에서 sentence 단위로 구분하는 작업\n",
    "2. Sentence segmentation 이라고도 함\n",
    "3. 마침표(.)는 문장 중간에 들어가는 경우 많다. ex) aaa@gmail.com으로 결과보내줘"
   ]
  },
  {
   "cell_type": "code",
   "execution_count": null,
   "metadata": {},
   "outputs": [
    {
     "name": "stdout",
     "output_type": "stream",
     "text": [
      "문장 토큰화1 : ['His barber kept his word.', 'But keeping such a huge secret to himself was driving him crazy.', 'Finally, the barber went up a mountain and almost to the edge of a cliff.', 'He dug a hole in the midst of some reeds.', 'He looked about, to make sure no one was near.']\n"
     ]
    }
   ],
   "source": [
    "from nltk.tokenize import sent_tokenize\n",
    "\n",
    "text = \"His barber kept his word. But keeping such a huge secret to himself was driving him crazy. Finally, the barber went up a mountain and almost to the edge of a cliff. He dug a hole in the midst of some reeds. He looked about, to make sure no one was near.\"\n",
    "print(\"문장 토큰화1 :\", sent_tokenize(text))"
   ]
  },
  {
   "cell_type": "code",
   "execution_count": null,
   "metadata": {},
   "outputs": [
    {
     "name": "stdout",
     "output_type": "stream",
     "text": [
      "문장 토큰화2 : ['I am actively looking for Ph.D. students.', 'and you are a Ph.D student.']\n"
     ]
    }
   ],
   "source": [
    "text = \"I am actively looking for Ph.D. students. and you are a Ph.D student.\"\n",
    "print(\"문장 토큰화2 :\", sent_tokenize(text))"
   ]
  },
  {
   "cell_type": "code",
   "execution_count": null,
   "metadata": {},
   "outputs": [],
   "source": [
    "!pip install kss"
   ]
  },
  {
   "cell_type": "code",
   "execution_count": null,
   "metadata": {},
   "outputs": [],
   "source": [
    "# KSS(Korean Sentence Splitter)\n",
    "import kss\n",
    "\n",
    "text = \"딥 러닝 자연어 처리가 재미있기는 합니다. 그런데 문제는 영어보다 한국어로 할 때 너무 어렵습니다. 이제 해보면 알걸요?\"\n",
    "print(\"한국어 문장 토큰화 :\", kss.split_sentences(text))"
   ]
  },
  {
   "cell_type": "markdown",
   "metadata": {},
   "source": [
    "### 한국어 토큰화의 어려움\n",
    "1. 영어는 New York 같은 합성어, he's 같은 줄임말 정도만 예외 처리후 띄어쓰기 기준으로 토큰화해도 단어 토큰화 잘 됨\n",
    "2. 한국어에서 띄어쓰기 단위는 '어절' 어절은 단어와 같지 않다.\n",
    "3. 한국어는 교착어다\n",
    "4. 교착어는 조사,어미를 붙여서 쓰는 말이다.\n",
    "\n",
    "### 한국어(교착어) 특성\n",
    "1. 그 라는 단어에 그가, 그에게, 그를, 그와 등등 다양한 조사가 붙는다.\n",
    "2. 같은 단어인데 다른 조사가 붙어서 다른 단어로 인식이 된다.\n",
    "3. 형태소(morpheme) : 뜻을 가진 가장 작은 말의 단위\n",
    "    1. 자립 형태소 : 그 자체로 단어가 되는 형태소 \n",
    "        - 체언(명사,대명사,수사), 수식언(관형사,부사), 감탄사\n",
    "    2. 의존 형태소 : 다른 형태소와 결합하여 사용되는 형태소\n",
    "        - 접사, 어미, 조사, 어간\n",
    "4. 영어보다 띄어쓰기가 잘 지켜지지 않는다.\n",
    "    - 띄어쓰기를 재대로 하지 않아도 이해가 되는 경우가 많기 때문\n",
    "    - Tobeornottobethaisthequestion\n",
    "    - 제가이렇게띄어씍를전혀하지않고글을썻다고하더라도글을이해할수있습니다.\n",
    "5. 품사 태깅(Part-of-speech tagging)\n",
    "    - fly : 동사로는 '날다', 명사로는'파리'\n",
    "    - 못 : 부사로는 '할수없다', 명사로는 '망치등을 사용해 목재 따위를 고정하는 물건'\n",
    "    - 단어 토큰화 과정에서 각 단어가 어떤 품사로 쓰였는지를 구분해 놓기도 함"
   ]
  },
  {
   "cell_type": "code",
   "execution_count": null,
   "metadata": {},
   "outputs": [
    {
     "name": "stderr",
     "output_type": "stream",
     "text": [
      "[nltk_data] Downloading package averaged_perceptron_tagger_eng to\n",
      "[nltk_data]     /Users/solkim/nltk_data...\n",
      "[nltk_data]   Unzipping taggers/averaged_perceptron_tagger_eng.zip.\n"
     ]
    },
    {
     "name": "stdout",
     "output_type": "stream",
     "text": [
      "단어 토큰화 : ['I', 'am', 'actively', 'looking', 'for', 'Ph.D.', 'students', '.', 'and', 'you', 'are', 'a', 'Ph.D.', 'student', '.']\n",
      "품사 태깅 : [('I', 'PRP'), ('am', 'VBP'), ('actively', 'RB'), ('looking', 'VBG'), ('for', 'IN'), ('Ph.D.', 'NNP'), ('students', 'NNS'), ('.', '.'), ('and', 'CC'), ('you', 'PRP'), ('are', 'VBP'), ('a', 'DT'), ('Ph.D.', 'NNP'), ('student', 'NN'), ('.', '.')]\n"
     ]
    }
   ],
   "source": [
    "from nltk.tokenize import word_tokenize\n",
    "from nltk.tag import pos_tag\n",
    "\n",
    "nltk.download(\"averaged_perceptron_tagger_eng\")\n",
    "text = \"I am actively looking for Ph.D. students. and you are a Ph.D. student.\"\n",
    "tokenized_sentence = word_tokenize(text)\n",
    "\n",
    "print(\"단어 토큰화 :\", tokenized_sentence)\n",
    "print(\"품사 태깅 :\", pos_tag(tokenized_sentence))"
   ]
  },
  {
   "cell_type": "code",
   "execution_count": 18,
   "metadata": {},
   "outputs": [
    {
     "name": "stderr",
     "output_type": "stream",
     "text": [
      "WARNING: A restricted method in java.lang.System has been called\n",
      "WARNING: java.lang.System::load has been called by org.jpype.JPypeContext in an unnamed module (file:/Users/solkim/Desktop/projects/my_python_project/DL_pytorch/.venv/lib/python3.11/site-packages/org.jpype.jar)\n",
      "WARNING: Use --enable-native-access=ALL-UNNAMED to avoid a warning for callers in this module\n",
      "WARNING: Restricted methods will be blocked in a future release unless native access is enabled\n",
      "\n"
     ]
    },
    {
     "name": "stdout",
     "output_type": "stream",
     "text": [
      "OKT 형태소 분석 : ['열심히', '코딩', '한', '당신', ',', '연휴', '에는', '여행', '을', '가봐요']\n",
      "OKT 품사 태깅 : [('열심히', 'Adverb'), ('코딩', 'Noun'), ('한', 'Josa'), ('당신', 'Noun'), (',', 'Punctuation'), ('연휴', 'Noun'), ('에는', 'Josa'), ('여행', 'Noun'), ('을', 'Josa'), ('가봐요', 'Verb')]\n",
      "OKT 명사 추출 : ['코딩', '당신', '연휴', '여행']\n"
     ]
    }
   ],
   "source": [
    "from konlpy.tag import Okt\n",
    "from konlpy.tag import Kkma\n",
    "\n",
    "okt = Okt()\n",
    "kkma = Kkma()\n",
    "\n",
    "print(\"OKT 형태소 분석 :\", okt.morphs(\"열심히 코딩한 당신, 연휴에는 여행을 가봐요\"))\n",
    "print(\"OKT 품사 태깅 :\", okt.pos(\"열심히 코딩한 당신, 연휴에는 여행을 가봐요\"))\n",
    "print(\"OKT 명사 추출 :\", okt.nouns(\"열심히 코딩한 당신, 연휴에는 여행을 가봐요\"))"
   ]
  },
  {
   "cell_type": "code",
   "execution_count": 19,
   "metadata": {},
   "outputs": [
    {
     "name": "stdout",
     "output_type": "stream",
     "text": [
      "꼬꼬마 형태소 분석 : ['열심히', '코딩', '하', 'ㄴ', '당신', ',', '연휴', '에', '는', '여행', '을', '가보', '아요']\n",
      "꼬꼬마 품사 태깅 : [('열심히', 'MAG'), ('코딩', 'NNG'), ('하', 'XSV'), ('ㄴ', 'ETD'), ('당신', 'NP'), (',', 'SP'), ('연휴', 'NNG'), ('에', 'JKM'), ('는', 'JX'), ('여행', 'NNG'), ('을', 'JKO'), ('가보', 'VV'), ('아요', 'EFN')]\n",
      "꼬꼬마 명사 추출 : ['코딩', '당신', '연휴', '여행']\n"
     ]
    }
   ],
   "source": [
    "print('꼬꼬마 형태소 분석 :',kkma.morphs(\"열심히 코딩한 당신, 연휴에는 여행을 가봐요\"))\n",
    "print('꼬꼬마 품사 태깅 :',kkma.pos(\"열심히 코딩한 당신, 연휴에는 여행을 가봐요\"))\n",
    "print('꼬꼬마 명사 추출 :',kkma.nouns(\"열심히 코딩한 당신, 연휴에는 여행을 가봐요\"))  "
   ]
  },
  {
   "cell_type": "markdown",
   "metadata": {},
   "source": [
    "### 09-02 텍스트 데이터의 정제와 정규화\n",
    "1. 토큰화 작업 전, 후에는 텍스트 데이터를 정제(cleaning), 정규화(normalization) 함께 해야함.\n",
    "- cleaning : 갖고 있는 코퍼스로부터 노이즈 데이터 제거\n",
    "- normalization : 표현 방법이 다른 단어들을 통합시켜 같은 단어로 만들어줌\n",
    "\n",
    "2. 규칙에 기반한 표기가 다른 단어 통합\n",
    "- USA, US\n",
    "- uh-huh, uhhuh\n",
    "\n",
    "3. 대, 소문자 통합\n",
    "- 모두 소문자로 통합하면 문제 생김\n",
    "    - US(미국), us(우리)\n",
    "    - General Motors, Bush 회사이름, 사람이름은 대문자 유지\n",
    "- 문장의 첫 단어의 대문자만 소문자로 바꾸는 방법\n",
    "- 훈련에 사용하는 Corpus가 대,소문자 규칙에 어긋나게 썼다면 그냥 소문자로 다 통합하는게 좋을때도 있음\n",
    "\n",
    "4. 불필요한 단어 제거\n",
    "    1. 등장 빈도가 적은 단어\n",
    "    2. 길이가 짧은 단어\n",
    "        - 영어에서 효과적이라고 알려짐\n",
    "        - 한국어 단어는 영어보다 평균적으로 짧음\n",
    "\n",
    "5. 정규 표현식\n",
    "- 규칙기반으로 cleaning"
   ]
  },
  {
   "cell_type": "code",
   "execution_count": null,
   "metadata": {},
   "outputs": [
    {
     "name": "stdout",
     "output_type": "stream",
     "text": [
      " was wondering anyone out there could enlighten this car.\n"
     ]
    }
   ],
   "source": [
    "import re\n",
    "text = \"I was wondering if anyone out there could enlighten me on this car.\"\n",
    "\n",
    "# 길이가 1~2인 단어들을 정규 표현식을 이용하여 삭제\n",
    "shortword = re.compile(r'\\W*\\b\\w{1,2}\\b')\n",
    "print(shortword.sub('', text))\n"
   ]
  },
  {
   "cell_type": "markdown",
   "metadata": {},
   "source": [
    "### 09-03 Stopwords\n",
    "1. 자주 등장하지만 분석에 큰 도움이 되지 않는 단어\n",
    "    - I,my,me,over,조사,접미사"
   ]
  },
  {
   "cell_type": "code",
   "execution_count": 23,
   "metadata": {},
   "outputs": [
    {
     "name": "stderr",
     "output_type": "stream",
     "text": [
      "[nltk_data] Downloading package stopwords to\n",
      "[nltk_data]     /Users/solkim/nltk_data...\n",
      "[nltk_data]   Unzipping corpora/stopwords.zip.\n"
     ]
    },
    {
     "data": {
      "text/plain": [
       "True"
      ]
     },
     "execution_count": 23,
     "metadata": {},
     "output_type": "execute_result"
    }
   ],
   "source": [
    "from nltk.corpus import stopwords\n",
    "from nltk.tokenize import word_tokenize \n",
    "from konlpy.tag import Okt\n",
    "nltk.download('stopwords')"
   ]
  },
  {
   "cell_type": "code",
   "execution_count": null,
   "metadata": {},
   "outputs": [
    {
     "name": "stdout",
     "output_type": "stream",
     "text": [
      "불용어 개수 : 198\n",
      "불용어 10개 출력 : ['a', 'about', 'above', 'after', 'again', 'against', 'ain', 'all', 'am', 'an']\n"
     ]
    }
   ],
   "source": [
    "# NLTK에서 불용어 확인하기 (Natural Language Toolkit)\n",
    "stop_words_list = stopwords.words('english')\n",
    "print('불용어 개수 :', len(stop_words_list))\n",
    "print('불용어 10개 출력 :', stop_words_list[:10])"
   ]
  },
  {
   "cell_type": "code",
   "execution_count": 25,
   "metadata": {},
   "outputs": [
    {
     "name": "stdout",
     "output_type": "stream",
     "text": [
      "불용어 제거 전 : ['Family', 'is', 'not', 'an', 'important', 'thing', '.', 'It', \"'s\", 'everything', '.']\n",
      "불용어 제거 후 : ['Family', 'important', 'thing', '.', 'It', \"'s\", 'everything', '.']\n"
     ]
    }
   ],
   "source": [
    "# NLTK를 통해서 불용어 제거하기\n",
    "example = \"Family is not an important thing. It's everything.\"\n",
    "stop_words = set(stopwords.words('english'))\n",
    "word_tokens = word_tokenize(example)\n",
    "\n",
    "result = []\n",
    "for word in word_tokens:\n",
    "    if word not in stop_words:\n",
    "        result.append(word)\n",
    "\n",
    "print('불용어 제거 전 :', word_tokens)\n",
    "print('불용어 제거 후 :', result)"
   ]
  },
  {
   "cell_type": "code",
   "execution_count": 26,
   "metadata": {},
   "outputs": [
    {
     "name": "stdout",
     "output_type": "stream",
     "text": [
      "불용어 제거 전 : ['고기', '를', '아무렇게나', '구', '우려', '고', '하면', '안', '돼', '.', '고기', '라고', '다', '같은', '게', '아니거든', '.', '예컨대', '삼겹살', '을', '구울', '때', '는', '중요한', '게', '있지', '.']\n",
      "불용어 제거 후 : ['고기', '하면', '.', '고기', '라고', '다', '아니거든', '.', '예컨대', '삼겹살', '을', '중요한', '있지', '.']\n"
     ]
    }
   ],
   "source": [
    "okt = Okt()\n",
    "\n",
    "example = \"고기를 아무렇게나 구우려고 하면 안 돼. 고기라고 다 같은 게 아니거든. 예컨대 삼겹살을 구울 때는 중요한 게 있지.\"\n",
    "stop_words = \"를 아무렇게나 구 우려 고 안 돼 같은 게 구울 때 는\"\n",
    "\n",
    "stop_words = set(stop_words.split(' '))\n",
    "word_tokens = okt.morphs(example)\n",
    "\n",
    "result = [word for word in word_tokens if not word in stop_words]\n",
    "\n",
    "print('불용어 제거 전 :',word_tokens) \n",
    "print('불용어 제거 후 :',result)"
   ]
  },
  {
   "cell_type": "markdown",
   "metadata": {},
   "source": [
    "### 정규 표현식\n"
   ]
  },
  {
   "cell_type": "code",
   "execution_count": null,
   "metadata": {},
   "outputs": [
    {
     "name": "stdout",
     "output_type": "stream",
     "text": [
      "None\n",
      "<re.Match object; span=(0, 3), match='abc'>\n"
     ]
    }
   ],
   "source": [
    "import re\n",
    "# 1. . 기호\n",
    "# 한개의 임의의 문자를 나타냄 a.c 는 abc, azc, adc , a!c와 같은 형태는 매치\n",
    "r = re.compile(\"a.c\")\n",
    "print(r.search(\"kkk\"))\n",
    "print(r.search(\"abc\"))"
   ]
  },
  {
   "cell_type": "code",
   "execution_count": 32,
   "metadata": {},
   "outputs": [
    {
     "name": "stdout",
     "output_type": "stream",
     "text": [
      "None\n",
      "<re.Match object; span=(0, 3), match='abc'>\n",
      "<re.Match object; span=(0, 2), match='ac'>\n"
     ]
    }
   ],
   "source": [
    "# 2. ? 기호\n",
    "# ?앞의 문자가 존재할수도 존재하지 않을수도 있음을 나타냄\n",
    "# ab?c -> abc, ac 둘다 매치\n",
    "r = re.compile(\"ab?c\")\n",
    "print(r.search(\"abbc\"))\n",
    "print(r.search(\"abc\"))\n",
    "print(r.search(\"ac\"))"
   ]
  },
  {
   "cell_type": "code",
   "execution_count": 33,
   "metadata": {},
   "outputs": [
    {
     "name": "stdout",
     "output_type": "stream",
     "text": [
      "None\n",
      "<re.Match object; span=(0, 2), match='ac'>\n",
      "<re.Match object; span=(0, 3), match='abc'>\n",
      "<re.Match object; span=(0, 9), match='abbbbbbbc'>\n"
     ]
    }
   ],
   "source": [
    "# 3. *기호\n",
    "# *바로앞의 문자가 0개 이상일 경우를 나타냄\n",
    "# 존재하지 않을수도 있고 또는 여러개일수도 있음\n",
    "# ab*c -> ac, abc, abbc, abbbc\n",
    "\n",
    "r = re.compile(\"ab*c\")\n",
    "print(r.search(\"a\"))\n",
    "print(r.search(\"ac\"))\n",
    "print(r.search(\"abc\"))\n",
    "print(r.search(\"abbbbbbbc\"))"
   ]
  },
  {
   "cell_type": "code",
   "execution_count": 34,
   "metadata": {},
   "outputs": [
    {
     "name": "stdout",
     "output_type": "stream",
     "text": [
      "None\n",
      "<re.Match object; span=(0, 9), match='abbbbbbbc'>\n"
     ]
    }
   ],
   "source": [
    "# 4. +기호\n",
    "# *와 유사하나 최소 1개이상\n",
    "\n",
    "r = re.compile(\"ab+c\")\n",
    "print(r.search(\"ac\"))\n",
    "print(r.search(\"abbbbbbbc\"))"
   ]
  },
  {
   "cell_type": "code",
   "execution_count": 35,
   "metadata": {},
   "outputs": [
    {
     "name": "stdout",
     "output_type": "stream",
     "text": [
      "None\n",
      "<re.Match object; span=(0, 2), match='ab'>\n"
     ]
    }
   ],
   "source": [
    "# 5. ^기호\n",
    "# 시작되는 문자열 지정 \n",
    "# ^ab -> ab로 시작하는 문자열 매칭\n",
    "\n",
    "r = re.compile(\"^ab\")\n",
    "print(r.search(\"bbc\"))\n",
    "print(r.search(\"abccsad\"))"
   ]
  },
  {
   "cell_type": "code",
   "execution_count": 36,
   "metadata": {},
   "outputs": [
    {
     "name": "stdout",
     "output_type": "stream",
     "text": [
      "None\n",
      "<re.Match object; span=(0, 4), match='abbc'>\n"
     ]
    }
   ],
   "source": [
    "# 6. {숫자} 기호 \n",
    "# 문자에 {숫자}를 붙이면 해당 문자를 숫자만큼 반복한 것을 나타냄\n",
    "# ab{2}c 라면 a와 c사이에 b가 존재하면서 b가 2개\n",
    "\n",
    "r = re.compile(\"ab{2}c\")\n",
    "print(r.search(\"ac\"))\n",
    "print(r.search(\"abbc\"))"
   ]
  },
  {
   "cell_type": "code",
   "execution_count": 37,
   "metadata": {},
   "outputs": [
    {
     "name": "stdout",
     "output_type": "stream",
     "text": [
      "None\n",
      "<re.Match object; span=(0, 4), match='abbc'>\n",
      "<re.Match object; span=(0, 10), match='abbbbbbbbc'>\n"
     ]
    }
   ],
   "source": [
    "# 7. {숫자1, 숫자2}기호\n",
    "# 문자에 해당 기호를 붙이면 해당 문자를 숫자1이상~숫자2이하만큼 반복\n",
    "\n",
    "r = re.compile(\"ab{2,8}c\")\n",
    "print(r.search(\"ac\"))\n",
    "print(r.search(\"abbc\"))\n",
    "print(r.search(\"abbbbbbbbc\"))"
   ]
  },
  {
   "cell_type": "code",
   "execution_count": 38,
   "metadata": {},
   "outputs": [
    {
     "name": "stdout",
     "output_type": "stream",
     "text": [
      "None\n",
      "<re.Match object; span=(0, 4), match='abbc'>\n",
      "<re.Match object; span=(0, 13), match='abbbbbbbbbbbc'>\n"
     ]
    }
   ],
   "source": [
    "# 8. {숫자, } 기호\n",
    "# 문자에 해당 기호를 붙이면 해당 문자를 숫자 이상만큼 반복\n",
    "\n",
    "r = re.compile(\"ab{2,}c\")\n",
    "print(r.search(\"abc\"))\n",
    "print(r.search(\"abbc\"))\n",
    "print(r.search(\"abbbbbbbbbbbc\"))"
   ]
  },
  {
   "cell_type": "code",
   "execution_count": 39,
   "metadata": {},
   "outputs": [
    {
     "name": "stdout",
     "output_type": "stream",
     "text": [
      "None\n",
      "<re.Match object; span=(0, 1), match='a'>\n",
      "<re.Match object; span=(0, 1), match='a'>\n",
      "<re.Match object; span=(0, 1), match='b'>\n"
     ]
    }
   ],
   "source": [
    "# 9. []기호\n",
    "# []안에 문자들을 넣으면 그 문자들 중 한개의 문자와 매치\n",
    "# [abc] a or b or c가 들어가있는 문자열과 매치\n",
    "# 범위 지정도 가능 [a-zA-Z]는 알파벳 전부\n",
    "# [0-9]는 숫자 전부\n",
    "\n",
    "r = re.compile(\"[abc]\")\n",
    "print(r.search(\"zzz\"))\n",
    "print(r.search(\"a\"))\n",
    "print(r.search(\"aaaaaaa\"))\n",
    "print(r.search(\"bcabca\"))"
   ]
  },
  {
   "cell_type": "code",
   "execution_count": 40,
   "metadata": {},
   "outputs": [
    {
     "name": "stdout",
     "output_type": "stream",
     "text": [
      "None\n",
      "None\n",
      "<re.Match object; span=(0, 1), match='a'>\n"
     ]
    }
   ],
   "source": [
    "r = re.compile(\"[a-z]\")\n",
    "print(r.search(\"AAA\"))\n",
    "print(r.search(\"111\"))\n",
    "print(r.search(\"asuFD\"))"
   ]
  },
  {
   "cell_type": "code",
   "execution_count": 42,
   "metadata": {},
   "outputs": [
    {
     "name": "stdout",
     "output_type": "stream",
     "text": [
      "None\n",
      "None\n",
      "None\n",
      "<re.Match object; span=(0, 1), match='d'>\n",
      "<re.Match object; span=(0, 1), match='1'>\n"
     ]
    }
   ],
   "source": [
    "# 10. [^문자] 기호\n",
    "# ^기호 뒤에 붙은 문자들을 제외한 모든 문자를 매치\n",
    "# [^abc] a or b or c가 들어간 문자열을 제외한 모든 문자열 매치\n",
    "\n",
    "r = re.compile(\"[^abc]\")\n",
    "print(r.search(\"a\"))\n",
    "print(r.search(\"ab\"))\n",
    "print(r.search(\"b\"))\n",
    "print(r.search(\"d\"))\n",
    "print(r.search(\"1\"))"
   ]
  },
  {
   "cell_type": "code",
   "execution_count": 43,
   "metadata": {},
   "outputs": [
    {
     "name": "stdout",
     "output_type": "stream",
     "text": [
      "None\n",
      "<re.Match object; span=(3, 6), match='abc'>\n"
     ]
    }
   ],
   "source": [
    "# 정규 표현식 모듈 함수 예제\n",
    "# re.match() 와 re.search()의 차이\n",
    "# search 는 문자열 전체에서 정규표현식과 매치하는지 봄\n",
    "# match 는 문자열 첫 부분부터 매치하는지 확인, 시작 부분이 매치하지 않으면 찾지 않음\n",
    "\n",
    "r = re.compile(\"ab.\")\n",
    "print(r.match(\"kkkabc\"))\n",
    "print(r.search(\"kkkabc\"))"
   ]
  },
  {
   "cell_type": "code",
   "execution_count": 44,
   "metadata": {},
   "outputs": [
    {
     "data": {
      "text/plain": [
       "['사과', '딸기', '수박', '메론', '바나나']"
      ]
     },
     "execution_count": 44,
     "metadata": {},
     "output_type": "execute_result"
    }
   ],
   "source": [
    "# re.split()\n",
    "# 정규표현식을 기준으로 문자열들을 분리하려 리스트로 리턴\n",
    "# 공백 기준 분리\n",
    "text = \"사과 딸기 수박 메론 바나나\"\n",
    "re.split(\" \", text)"
   ]
  },
  {
   "cell_type": "code",
   "execution_count": 45,
   "metadata": {},
   "outputs": [
    {
     "data": {
      "text/plain": [
       "['사과', '딸기', '수박', '메론', '바나나']"
      ]
     },
     "execution_count": 45,
     "metadata": {},
     "output_type": "execute_result"
    }
   ],
   "source": [
    "# 줄바꿈 기준 분리\n",
    "text = \"\"\"사과\n",
    "딸기\n",
    "수박\n",
    "메론\n",
    "바나나\"\"\"\n",
    "\n",
    "re.split(\"\\n\", text)"
   ]
  },
  {
   "cell_type": "code",
   "execution_count": 46,
   "metadata": {},
   "outputs": [
    {
     "data": {
      "text/plain": [
       "['사괴', '딸기', '수박', '메론', '바나나']"
      ]
     },
     "execution_count": 46,
     "metadata": {},
     "output_type": "execute_result"
    }
   ],
   "source": [
    "# '+'를 기준으로 분리\n",
    "text = \"사괴+딸기+수박+메론+바나나\"\n",
    "re.split('\\+', text)"
   ]
  },
  {
   "cell_type": "code",
   "execution_count": 49,
   "metadata": {},
   "outputs": [
    {
     "name": "stdout",
     "output_type": "stream",
     "text": [
      "['010', '1234', '1234', '30']\n",
      "[]\n"
     ]
    }
   ],
   "source": [
    "# re.findall()\n",
    "# findall()함수는 정규 표현식과 매치되는 모든 문자열들을 리스트로 리턴\n",
    "# 매치되는 문자열 없으면 빈 리스트 리턴\n",
    "\n",
    "text = \"\"\"이름 : 김철수\n",
    "전화번호 : 010 - 1234 - 1234\n",
    "나이 : 30\n",
    "성별 : 남\"\"\"\n",
    "\n",
    "print(re.findall(\"\\d+\", text)) # 전체 텍스트에서 숫자만 찾아서 리턴\n",
    "print(re.findall(\"\\d+\", \"문자열입니다.\"))"
   ]
  },
  {
   "cell_type": "code",
   "execution_count": 50,
   "metadata": {},
   "outputs": [
    {
     "name": "stdout",
     "output_type": "stream",
     "text": [
      "Regular expression   A regular expression  regex or regexp     sometimes called a rational expression        is  in theoretical computer science and formal language theory  a sequence of characters that define a search pattern \n"
     ]
    }
   ],
   "source": [
    "# re.sub()\n",
    "# 정규표현식 패턴과 일치하는 문자열 찾아 다른 문자열로 대체\n",
    "text = \"Regular expression : A regular expression, regex or regexp[1] (sometimes called a rational expression)[2][3] is, in theoretical computer science and formal language theory, a sequence of characters that define a search pattern.\"\n",
    "\n",
    "preprocessed_text = re.sub('[^a-zA-Z]', ' ', text) #영어알파벳이 아닌것을 공백으로\n",
    "print(preprocessed_text)\n"
   ]
  },
  {
   "cell_type": "code",
   "execution_count": 56,
   "metadata": {},
   "outputs": [
    {
     "name": "stdout",
     "output_type": "stream",
     "text": [
      "['100', 'John', 'PROF', '101', 'James', 'STUD', '102', 'Mac', 'STUD']\n",
      "['100', '101', '102']\n",
      "['J', 'P', 'R', 'O', 'F', 'J', 'S', 'T', 'U', 'D', 'M', 'S', 'T', 'U', 'D']\n",
      "['PROF', 'STUD', 'STUD']\n",
      "['John', 'James', 'Mac']\n"
     ]
    }
   ],
   "source": [
    "text = \"\"\"100 John    PROF\n",
    "101 James   STUD\n",
    "102 Mac   STUD\"\"\"\n",
    "\n",
    "print(re.split('\\s+', text)) # 공백을 찾아내는 정규표현식 \n",
    "print(re.findall('\\d+', text)) # 숫자 최소 한개\n",
    "print(re.findall('[A-Z]', text)) # 대문자 찾기, 문자열을 가져오는게 아니라 대문자 각각을 가져옴\n",
    "print(re.findall('[A-Z]{4}', text)) # 대문자가 연속 4개이상 등장하는 경우\n",
    "print(re.findall('[A-Z][a-z]+', text)) # 처음에는 대문자 그 뒤에 소문자 여러개 "
   ]
  },
  {
   "cell_type": "code",
   "execution_count": 57,
   "metadata": {},
   "outputs": [
    {
     "name": "stdout",
     "output_type": "stream",
     "text": [
      "['Don', 't', 'be', 'fooled', 'by', 'the', 'dark', 'sounding', 'name', 'Mr', 'Jone', 's', 'Orphanage', 'is', 'as', 'cheery', 'as', 'cheery', 'goes', 'for', 'a', 'pastry', 'shop']\n",
      "[\"Don't\", 'be', 'fooled', 'by', 'the', 'dark', 'sounding', 'name,', 'Mr.', \"Jone's\", 'Orphanage', 'is', 'as', 'cheery', 'as', 'cheery', 'goes', 'for', 'a', 'pastry', 'shop']\n"
     ]
    }
   ],
   "source": [
    "from nltk.tokenize import RegexpTokenizer\n",
    "\n",
    "text = \"Don't be fooled by the dark sounding name, Mr. Jone's Orphanage is as cheery as cheery goes for a pastry shop\"\n",
    "\n",
    "tokenizer1 = RegexpTokenizer(\"[\\w]+\") # 문자 또는 숫자가 1개이상인경우\n",
    "tokenizer2 = RegexpTokenizer(\"\\s+\", gaps=True) # 공백기준\n",
    "\n",
    "print(tokenizer1.tokenize(text))\n",
    "print(tokenizer2.tokenize(text))\n"
   ]
  },
  {
   "cell_type": "code",
   "execution_count": null,
   "metadata": {},
   "outputs": [],
   "source": []
  }
 ],
 "metadata": {
  "kernelspec": {
   "display_name": ".venv",
   "language": "python",
   "name": "python3"
  },
  "language_info": {
   "codemirror_mode": {
    "name": "ipython",
    "version": 3
   },
   "file_extension": ".py",
   "mimetype": "text/x-python",
   "name": "python",
   "nbconvert_exporter": "python",
   "pygments_lexer": "ipython3",
   "version": "3.11.9"
  }
 },
 "nbformat": 4,
 "nbformat_minor": 2
}
