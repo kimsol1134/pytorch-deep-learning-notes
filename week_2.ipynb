{
 "cells": [
  {
   "cell_type": "markdown",
   "metadata": {},
   "source": [
    "# 03-01 Linear Regression and Autograd\n",
    "## 1. Data Definition\n",
    "## 2. Hypothesis 수립\n",
    "## 3. Compute loss\n",
    "    - cons function = loss function = error function = object function\n",
    "## 4. Gradient Descent"
   ]
  },
  {
   "cell_type": "code",
   "execution_count": 1,
   "metadata": {},
   "outputs": [
    {
     "data": {
      "text/plain": [
       "<torch._C.Generator at 0x10fe2cc10>"
      ]
     },
     "execution_count": 1,
     "metadata": {},
     "output_type": "execute_result"
    }
   ],
   "source": [
    "# pytorch로 선형 회귀 구현\n",
    "import torch\n",
    "import torch.nn as nn\n",
    "import torch.nn.functional as F\n",
    "import torch.optim as optim\n",
    "\n",
    "torch.manual_seed(1)"
   ]
  },
  {
   "cell_type": "code",
   "execution_count": 2,
   "metadata": {},
   "outputs": [
    {
     "name": "stdout",
     "output_type": "stream",
     "text": [
      "tensor([[1.],\n",
      "        [2.],\n",
      "        [3.]])\n",
      "torch.Size([3, 1])\n",
      "tensor([[2.],\n",
      "        [4.],\n",
      "        [6.]])\n",
      "torch.Size([3, 1])\n"
     ]
    }
   ],
   "source": [
    "#변수 선언\n",
    "x_train = torch.FloatTensor([[1], [2], [3]])\n",
    "y_train = torch.FloatTensor([[2], [4], [6]])\n",
    "print(x_train)\n",
    "print(x_train.shape)\n",
    "print(y_train)\n",
    "print(y_train.shape)"
   ]
  },
  {
   "cell_type": "code",
   "execution_count": 3,
   "metadata": {},
   "outputs": [
    {
     "name": "stdout",
     "output_type": "stream",
     "text": [
      "tensor([0.], requires_grad=True)\n",
      "tensor([0.], requires_grad=True)\n"
     ]
    }
   ],
   "source": [
    "# weight, bias 초기화\n",
    "W = torch.zeros(1, requires_grad=True) # requires_grad=True 학습을 통해 계속 값이 변경되는 변수임\n",
    "print(W)\n",
    "b = torch.zeros(1, requires_grad=True)\n",
    "print(b)"
   ]
  },
  {
   "cell_type": "code",
   "execution_count": 4,
   "metadata": {},
   "outputs": [
    {
     "name": "stdout",
     "output_type": "stream",
     "text": [
      "tensor([[0.],\n",
      "        [0.],\n",
      "        [0.]], grad_fn=<AddBackward0>)\n"
     ]
    }
   ],
   "source": [
    "# hypothesis 수립\n",
    "hypothesis = x_train * W + b\n",
    "print(hypothesis)"
   ]
  },
  {
   "cell_type": "code",
   "execution_count": 5,
   "metadata": {},
   "outputs": [
    {
     "name": "stdout",
     "output_type": "stream",
     "text": [
      "tensor(18.6667, grad_fn=<MeanBackward0>)\n"
     ]
    }
   ],
   "source": [
    "# cost function 선언\n",
    "cost = torch.mean((hypothesis - y_train) ** 2) # MSE\n",
    "print(cost)"
   ]
  },
  {
   "cell_type": "code",
   "execution_count": 6,
   "metadata": {},
   "outputs": [],
   "source": [
    "# Gradient Descent 구현\n",
    "optimizer = optim.SGD([W,b], lr=0.01) # 학습대상 가중치를 입력\n",
    "\n",
    "#gradient 0으로 초기화\n",
    "optimizer.zero_grad()\n",
    "# 비용함수 미분하여 gradient 계산\n",
    "cost.backward()\n",
    "# W와 b를 업데이트\n",
    "optimizer.step()"
   ]
  },
  {
   "cell_type": "code",
   "execution_count": 7,
   "metadata": {},
   "outputs": [
    {
     "name": "stdout",
     "output_type": "stream",
     "text": [
      "Epoch    0/1999 W: 0.353, b: 0.151 Cost: 14.770963\n",
      "Epoch  100/1999 W: 1.746, b: 0.577 Cost: 0.047939\n",
      "Epoch  200/1999 W: 1.801, b: 0.453 Cost: 0.029624\n",
      "Epoch  300/1999 W: 1.843, b: 0.356 Cost: 0.018306\n",
      "Epoch  400/1999 W: 1.877, b: 0.280 Cost: 0.011312\n",
      "Epoch  500/1999 W: 1.903, b: 0.220 Cost: 0.006990\n",
      "Epoch  600/1999 W: 1.924, b: 0.173 Cost: 0.004319\n",
      "Epoch  700/1999 W: 1.940, b: 0.136 Cost: 0.002669\n",
      "Epoch  800/1999 W: 1.953, b: 0.107 Cost: 0.001649\n",
      "Epoch  900/1999 W: 1.963, b: 0.084 Cost: 0.001019\n",
      "Epoch 1000/1999 W: 1.971, b: 0.066 Cost: 0.000630\n",
      "Epoch 1100/1999 W: 1.977, b: 0.052 Cost: 0.000389\n",
      "Epoch 1200/1999 W: 1.982, b: 0.041 Cost: 0.000240\n",
      "Epoch 1300/1999 W: 1.986, b: 0.032 Cost: 0.000149\n",
      "Epoch 1400/1999 W: 1.989, b: 0.025 Cost: 0.000092\n",
      "Epoch 1500/1999 W: 1.991, b: 0.020 Cost: 0.000057\n",
      "Epoch 1600/1999 W: 1.993, b: 0.016 Cost: 0.000035\n",
      "Epoch 1700/1999 W: 1.995, b: 0.012 Cost: 0.000022\n",
      "Epoch 1800/1999 W: 1.996, b: 0.010 Cost: 0.000013\n",
      "Epoch 1900/1999 W: 1.997, b: 0.008 Cost: 0.000008\n"
     ]
    }
   ],
   "source": [
    "nb_epochs = 1999\n",
    "for epoch in range(nb_epochs +1):\n",
    "    # H(x) 계산\n",
    "    hypothesis = x_train * W + b\n",
    "    # cost 계산\n",
    "    cost = torch.mean((hypothesis-y_train) ** 2)\n",
    "\n",
    "    # cost로 H(x) 개선\n",
    "    optimizer.zero_grad() # 미분값 초기화 안하면 계속 누적됨\n",
    "    cost.backward()\n",
    "    optimizer.step()\n",
    "\n",
    "    # 100번 마다 로그 출력\n",
    "    if epoch % 100 == 0:\n",
    "        print(f'Epoch {epoch:4d}/{nb_epochs} W: {W.item():.3f}, b: {b.item():.3f} Cost: {cost.item():.6f}')"
   ]
  },
  {
   "cell_type": "code",
   "execution_count": 8,
   "metadata": {},
   "outputs": [
    {
     "name": "stdout",
     "output_type": "stream",
     "text": [
      "수식을 w로 미분한 값 : 8.0\n"
     ]
    }
   ],
   "source": [
    "# Autograd\n",
    "w = torch.tensor(2.0, requires_grad=True)\n",
    "y = w**2\n",
    "z = 2*y + 5\n",
    "z.backward()\n",
    "print(f'수식을 w로 미분한 값 : {w.grad}') # dz/dw = dz/dy * dy/dw = 2 * 2w = 4w"
   ]
  },
  {
   "cell_type": "code",
   "execution_count": 9,
   "metadata": {},
   "outputs": [
    {
     "name": "stdout",
     "output_type": "stream",
     "text": [
      "Epoch    0/1000 w1: 0.294 w2: 0.294 w3: 0.297 b: 0.003 Cost: 29661.800781\n",
      "Epoch  100/1000 w1: 0.674 w2: 0.661 w3: 0.676 b: 0.008 Cost: 1.563628\n",
      "Epoch  200/1000 w1: 0.679 w2: 0.655 w3: 0.677 b: 0.008 Cost: 1.497595\n",
      "Epoch  300/1000 w1: 0.684 w2: 0.649 w3: 0.677 b: 0.008 Cost: 1.435044\n",
      "Epoch  400/1000 w1: 0.689 w2: 0.643 w3: 0.678 b: 0.008 Cost: 1.375726\n",
      "Epoch  500/1000 w1: 0.694 w2: 0.638 w3: 0.678 b: 0.009 Cost: 1.319507\n",
      "Epoch  600/1000 w1: 0.699 w2: 0.633 w3: 0.679 b: 0.009 Cost: 1.266222\n",
      "Epoch  700/1000 w1: 0.704 w2: 0.627 w3: 0.679 b: 0.009 Cost: 1.215703\n",
      "Epoch  800/1000 w1: 0.709 w2: 0.622 w3: 0.679 b: 0.009 Cost: 1.167810\n",
      "Epoch  900/1000 w1: 0.713 w2: 0.617 w3: 0.680 b: 0.009 Cost: 1.122429\n",
      "Epoch 1000/1000 w1: 0.718 w2: 0.613 w3: 0.680 b: 0.009 Cost: 1.079390\n"
     ]
    }
   ],
   "source": [
    "## Multivariable Linear regression\n",
    "# 훈련 데이터\n",
    "x1_train = torch.FloatTensor([[73], [93], [89], [96], [73]])\n",
    "x2_train = torch.FloatTensor([[80], [88], [91], [98], [66]])\n",
    "x3_train = torch.FloatTensor([[75], [93], [90], [100], [70]])\n",
    "y_train = torch.FloatTensor([[152], [185], [180], [196], [142]])\n",
    "\n",
    "# 가중치 w와 편향 b 초기화\n",
    "w1 = torch.zeros(1, requires_grad=True)\n",
    "w2 = torch.zeros(1, requires_grad=True)\n",
    "w3 = torch.zeros(1, requires_grad=True)\n",
    "b = torch.zeros(1, requires_grad=True)\n",
    "\n",
    "# optimizer 설정\n",
    "optimizer = optim.SGD([w1, w2, w3, b], lr=1e-5)\n",
    "\n",
    "nb_epochs = 1000\n",
    "for epoch in range(nb_epochs + 1):\n",
    "\n",
    "    # H(x) 계산\n",
    "    hypothesis = x1_train * w1 + x2_train * w2 + x3_train * w3 + b\n",
    "\n",
    "    # cost 계산\n",
    "    cost = torch.mean((hypothesis - y_train) ** 2)\n",
    "\n",
    "    # cost로 H(x) 개선\n",
    "    optimizer.zero_grad()\n",
    "    cost.backward()\n",
    "    optimizer.step()\n",
    "\n",
    "    # 100번마다 로그 출력\n",
    "    if epoch % 100 == 0:\n",
    "        print('Epoch {:4d}/{} w1: {:.3f} w2: {:.3f} w3: {:.3f} b: {:.3f} Cost: {:.6f}'.format(\n",
    "            epoch, nb_epochs, w1.item(), w2.item(), w3.item(), b.item(), cost.item()\n",
    "        ))"
   ]
  },
  {
   "cell_type": "code",
   "execution_count": 10,
   "metadata": {},
   "outputs": [
    {
     "name": "stdout",
     "output_type": "stream",
     "text": [
      "torch.Size([5, 3])\n",
      "torch.Size([5, 1])\n"
     ]
    }
   ],
   "source": [
    "# 행렬로 구현\n",
    "x_train  =  torch.FloatTensor([[73,  80,  75], \n",
    "                               [93,  88,  93], \n",
    "                               [89,  91,  80], \n",
    "                               [96,  98,  100],   \n",
    "                               [73,  66,  70]])  \n",
    "y_train  =  torch.FloatTensor([[152],  [185],  [180],  [196],  [142]])\n",
    "print(x_train.shape)\n",
    "print(y_train.shape)"
   ]
  },
  {
   "cell_type": "code",
   "execution_count": 11,
   "metadata": {},
   "outputs": [
    {
     "name": "stdout",
     "output_type": "stream",
     "text": [
      "Epoch    0/20 hypothesis: tensor([0., 0., 0., 0., 0.]) Cost: 29661.800781\n",
      "Epoch    1/20 hypothesis: tensor([66.7178, 80.1701, 76.1025, 86.0194, 61.1565]) Cost: 9537.694336\n",
      "Epoch    2/20 hypothesis: tensor([104.5421, 125.6208, 119.2478, 134.7862,  95.8280]) Cost: 3069.590088\n",
      "Epoch    3/20 hypothesis: tensor([125.9858, 151.3882, 143.7087, 162.4333, 115.4844]) Cost: 990.670288\n",
      "Epoch    4/20 hypothesis: tensor([138.1429, 165.9963, 157.5768, 178.1071, 126.6283]) Cost: 322.481873\n",
      "Epoch    5/20 hypothesis: tensor([145.0350, 174.2780, 165.4395, 186.9928, 132.9461]) Cost: 107.717064\n",
      "Epoch    6/20 hypothesis: tensor([148.9423, 178.9730, 169.8976, 192.0301, 136.5279]) Cost: 38.687496\n",
      "Epoch    7/20 hypothesis: tensor([151.1574, 181.6346, 172.4254, 194.8856, 138.5585]) Cost: 16.499043\n",
      "Epoch    8/20 hypothesis: tensor([152.4131, 183.1435, 173.8590, 196.5043, 139.7097]) Cost: 9.365656\n",
      "Epoch    9/20 hypothesis: tensor([153.1250, 183.9988, 174.6723, 197.4217, 140.3625]) Cost: 7.071114\n",
      "Epoch   10/20 hypothesis: tensor([153.5285, 184.4835, 175.1338, 197.9415, 140.7325]) Cost: 6.331847\n",
      "Epoch   11/20 hypothesis: tensor([153.7572, 184.7582, 175.3958, 198.2360, 140.9424]) Cost: 6.092532\n",
      "Epoch   12/20 hypothesis: tensor([153.8868, 184.9138, 175.5449, 198.4026, 141.0613]) Cost: 6.013817\n",
      "Epoch   13/20 hypothesis: tensor([153.9602, 185.0019, 175.6299, 198.4969, 141.1288]) Cost: 5.986785\n",
      "Epoch   14/20 hypothesis: tensor([154.0017, 185.0517, 175.6785, 198.5500, 141.1671]) Cost: 5.976325\n",
      "Epoch   15/20 hypothesis: tensor([154.0252, 185.0798, 175.7065, 198.5800, 141.1888]) Cost: 5.971208\n",
      "Epoch   16/20 hypothesis: tensor([154.0385, 185.0956, 175.7229, 198.5966, 141.2012]) Cost: 5.967835\n",
      "Epoch   17/20 hypothesis: tensor([154.0459, 185.1045, 175.7326, 198.6059, 141.2082]) Cost: 5.964969\n",
      "Epoch   18/20 hypothesis: tensor([154.0501, 185.1094, 175.7386, 198.6108, 141.2122]) Cost: 5.962291\n",
      "Epoch   19/20 hypothesis: tensor([154.0524, 185.1120, 175.7424, 198.6134, 141.2145]) Cost: 5.959664\n",
      "Epoch   20/20 hypothesis: tensor([154.0536, 185.1134, 175.7451, 198.6145, 141.2158]) Cost: 5.957089\n"
     ]
    }
   ],
   "source": [
    "# 가중치와 편향 선언\n",
    "W = torch.zeros((3, 1), requires_grad=True) # 3x1\n",
    "b = torch.zeros(1, requires_grad=True)\n",
    "\n",
    "hypothesis = x_train.matmul(W) + b # 행렬곱으로 표현\n",
    "\n",
    "optimizer = optim.SGD([W, b], lr=1e-5)\n",
    "\n",
    "nb_epochs = 20\n",
    "for epoch in range(nb_epochs + 1):\n",
    "\n",
    "    # H(x) 계산\n",
    "    # 편향 b는 브로드 캐스팅되어 각 샘플에 더해집니다.\n",
    "    hypothesis = x_train.matmul(W) + b\n",
    "\n",
    "    # cost 계산\n",
    "    cost = torch.mean((hypothesis - y_train) ** 2)\n",
    "\n",
    "    # cost로 H(x) 개선\n",
    "    optimizer.zero_grad()\n",
    "    cost.backward()\n",
    "    optimizer.step()\n",
    "\n",
    "    print('Epoch {:4d}/{} hypothesis: {} Cost: {:.6f}'.format(\n",
    "        epoch, nb_epochs, hypothesis.squeeze().detach(), cost.item()\n",
    "    ))"
   ]
  },
  {
   "cell_type": "code",
   "execution_count": 12,
   "metadata": {},
   "outputs": [
    {
     "name": "stdout",
     "output_type": "stream",
     "text": [
      "Predicted value for input [75.0, 85.0, 72.0]: 156.8051300048828\n"
     ]
    }
   ],
   "source": [
    "# 임의의 입력 값에 대한 예측\n",
    "with torch.no_grad(): # 이 블록에서는 역전파 계싼 비활성화 -> 예측하는데 가중치 업데이트 필요 없음\n",
    "    new_input = torch.FloatTensor([[75,85,72]]) # 예측하고 싶은 임의의 입력\n",
    "    prediction = new_input.matmul(W) + b\n",
    "    print(f'Predicted value for input {new_input.squeeze().tolist()}: {prediction.item()}') # 입력값 리스트로 변환해 보기 편하게"
   ]
  },
  {
   "cell_type": "code",
   "execution_count": 1,
   "metadata": {},
   "outputs": [
    {
     "data": {
      "text/plain": [
       "<torch._C.Generator at 0x131b2cd30>"
      ]
     },
     "execution_count": 1,
     "metadata": {},
     "output_type": "execute_result"
    }
   ],
   "source": [
    "# 03-03 nn.Module과 클래스로 구현\n",
    "import torch\n",
    "import torch.nn as nn\n",
    "import torch.nn.functional as F\n",
    "\n",
    "torch.manual_seed(1)"
   ]
  },
  {
   "cell_type": "code",
   "execution_count": 5,
   "metadata": {},
   "outputs": [
    {
     "name": "stdout",
     "output_type": "stream",
     "text": [
      "[Parameter containing:\n",
      "tensor([[-0.9414]], requires_grad=True), Parameter containing:\n",
      "tensor([0.5997], requires_grad=True)]\n"
     ]
    }
   ],
   "source": [
    "# 데이터 y = 2x\n",
    "x_train = torch.FloatTensor([[1], [2], [3]])\n",
    "y_train = torch.FloatTensor([[2], [4], [6]])\n",
    "\n",
    "# 모델 선언 및 초기화, 단순 선형 회귀 -> input_dim=1, output_dim=1\n",
    "\n",
    "model = nn.Linear(1,1)\n",
    "print(list(model.parameters())) # 첫번째 값 W , 두번째 값 b 랜덤 초기화 상태\n",
    "    "
   ]
  },
  {
   "cell_type": "code",
   "execution_count": 6,
   "metadata": {},
   "outputs": [
    {
     "name": "stdout",
     "output_type": "stream",
     "text": [
      "Epoch :    0/2000 Cost : 33.679783\n",
      "Epoch :  100/2000 Cost : 0.223159\n",
      "Epoch :  200/2000 Cost : 0.137899\n",
      "Epoch :  300/2000 Cost : 0.085213\n",
      "Epoch :  400/2000 Cost : 0.052656\n",
      "Epoch :  500/2000 Cost : 0.032539\n",
      "Epoch :  600/2000 Cost : 0.020107\n",
      "Epoch :  700/2000 Cost : 0.012425\n",
      "Epoch :  800/2000 Cost : 0.007678\n",
      "Epoch :  900/2000 Cost : 0.004744\n",
      "Epoch : 1000/2000 Cost : 0.002932\n",
      "Epoch : 1100/2000 Cost : 0.001812\n",
      "Epoch : 1200/2000 Cost : 0.001119\n",
      "Epoch : 1300/2000 Cost : 0.000692\n",
      "Epoch : 1400/2000 Cost : 0.000427\n",
      "Epoch : 1500/2000 Cost : 0.000264\n",
      "Epoch : 1600/2000 Cost : 0.000163\n",
      "Epoch : 1700/2000 Cost : 0.000101\n",
      "Epoch : 1800/2000 Cost : 0.000062\n",
      "Epoch : 1900/2000 Cost : 0.000039\n",
      "Epoch : 2000/2000 Cost : 0.000024\n"
     ]
    }
   ],
   "source": [
    "# optimizer 설정 , 경사하강법 SGD 사용, lr = 0.01\n",
    "optimizer = torch.optim.SGD(model.parameters(), lr=0.01)\n",
    "\n",
    "# 전체 훈련 데이터에 대해 경사 하강법을 2000번 반복\n",
    "nb_epochs = 2000\n",
    "for epoch in range(nb_epochs+1):\n",
    "\n",
    "    # H(x) 계산\n",
    "    prediction = model(x_train)\n",
    "\n",
    "    # cost 계산\n",
    "    cost = F.mse_loss(prediction, y_train) # 파이토치에서 제공하는 MSE\n",
    "\n",
    "    # cost로 H(x) 개선\n",
    "    # gradient를 0으로 초기화\n",
    "    optimizer.zero_grad()\n",
    "    # 비용 함수를 미분하여 gradient 계산\n",
    "    cost.backward() # backward 연산\n",
    "    # W와 b를 업데이트\n",
    "    optimizer.step()\n",
    "\n",
    "    if epoch % 100 == 0 :\n",
    "        # 100번 마다 로그 출력\n",
    "        print(f'Epoch : {epoch:4d}/{nb_epochs} Cost : {cost.item():.6f}')"
   ]
  },
  {
   "cell_type": "code",
   "execution_count": 7,
   "metadata": {},
   "outputs": [
    {
     "name": "stdout",
     "output_type": "stream",
     "text": [
      "훈련 후 입력이 4일 때의 예측값 :  tensor([[7.9902]], grad_fn=<AddmmBackward0>)\n"
     ]
    }
   ],
   "source": [
    "# 임의의 입력 4를 선언\n",
    "new_var = torch.FloatTensor([[4.0]])\n",
    "# 입력한 값 4에 대해서 예측값 y를 리턴받아서 pred_y에 저장\n",
    "pred_y = model(new_var) # forward 연산\n",
    "# y=2x 이므로 입력이 4면 8에 가까운 값이 나와야 학습 잘 된것\n",
    "print(\"훈련 후 입력이 4일 때의 예측값 : \", pred_y)"
   ]
  },
  {
   "cell_type": "code",
   "execution_count": 8,
   "metadata": {},
   "outputs": [
    {
     "name": "stdout",
     "output_type": "stream",
     "text": [
      "[Parameter containing:\n",
      "tensor([[1.9943]], requires_grad=True), Parameter containing:\n",
      "tensor([0.0128], requires_grad=True)]\n"
     ]
    }
   ],
   "source": [
    "print(list(model.parameters())) # 학습후 W,b 값"
   ]
  },
  {
   "cell_type": "code",
   "execution_count": 18,
   "metadata": {},
   "outputs": [],
   "source": [
    "# 다중 선형 회귀 구현\n",
    "\n",
    "# 데이터\n",
    "x_train = torch.FloatTensor([[73, 80, 75],\n",
    "                             [93, 88, 93],\n",
    "                             [89, 91, 90],\n",
    "                             [96, 98, 100],\n",
    "                             [73, 66, 70]])\n",
    "y_train = torch.FloatTensor([[152], [185], [180], [196], [142]])"
   ]
  },
  {
   "cell_type": "code",
   "execution_count": 19,
   "metadata": {},
   "outputs": [
    {
     "name": "stdout",
     "output_type": "stream",
     "text": [
      "[Parameter containing:\n",
      "tensor([[0.1601, 0.0285, 0.2109]], requires_grad=True), Parameter containing:\n",
      "tensor([-0.2250], requires_grad=True)]\n"
     ]
    }
   ],
   "source": [
    "# 모델을 선언 및 초기화. 다중 선형 회귀이므로 input_dim=3, output_dim=1\n",
    "model = nn.Linear(3,1)\n",
    "print(list(model.parameters()))"
   ]
  },
  {
   "cell_type": "code",
   "execution_count": 20,
   "metadata": {},
   "outputs": [
    {
     "name": "stdout",
     "output_type": "stream",
     "text": [
      "Epoch :    0/2000 Cost : 19085.046875\n",
      "Epoch :  100/2000 Cost : 0.954051\n",
      "Epoch :  200/2000 Cost : 0.925118\n",
      "Epoch :  300/2000 Cost : 0.897646\n",
      "Epoch :  400/2000 Cost : 0.871580\n",
      "Epoch :  500/2000 Cost : 0.846827\n",
      "Epoch :  600/2000 Cost : 0.823312\n",
      "Epoch :  700/2000 Cost : 0.800989\n",
      "Epoch :  800/2000 Cost : 0.779788\n",
      "Epoch :  900/2000 Cost : 0.759638\n",
      "Epoch : 1000/2000 Cost : 0.740494\n",
      "Epoch : 1100/2000 Cost : 0.722297\n",
      "Epoch : 1200/2000 Cost : 0.705017\n",
      "Epoch : 1300/2000 Cost : 0.688583\n",
      "Epoch : 1400/2000 Cost : 0.672957\n",
      "Epoch : 1500/2000 Cost : 0.658109\n",
      "Epoch : 1600/2000 Cost : 0.643980\n",
      "Epoch : 1700/2000 Cost : 0.630553\n",
      "Epoch : 1800/2000 Cost : 0.617762\n",
      "Epoch : 1900/2000 Cost : 0.605604\n",
      "Epoch : 2000/2000 Cost : 0.594023\n"
     ]
    }
   ],
   "source": [
    "optimizer = torch.optim.SGD(model.parameters(), lr=1e-5)\n",
    "\n",
    "# 전체 훈련 데이터에 대해 경사 하강법을 2000번 반복\n",
    "nb_epochs = 2000\n",
    "for epoch in range(nb_epochs+1):\n",
    "\n",
    "    # H(x) 계산\n",
    "    prediction = model(x_train)\n",
    "\n",
    "    # cost 계산\n",
    "    cost = F.mse_loss(prediction, y_train) # 파이토치에서 제공하는 MSE\n",
    "\n",
    "    # cost로 H(x) 개선\n",
    "    # gradient를 0으로 초기화\n",
    "    optimizer.zero_grad()\n",
    "    # 비용 함수를 미분하여 gradient 계산\n",
    "    cost.backward() # backward 연산\n",
    "    # W와 b를 업데이트\n",
    "    optimizer.step()\n",
    "\n",
    "    if epoch % 100 == 0 :\n",
    "        # 100번 마다 로그 출력\n",
    "        print(f'Epoch : {epoch:4d}/{nb_epochs} Cost : {cost.item():.6f}')"
   ]
  },
  {
   "cell_type": "code",
   "execution_count": 21,
   "metadata": {},
   "outputs": [
    {
     "name": "stdout",
     "output_type": "stream",
     "text": [
      "훈련 후 입력이 73, 80, 75일 때의 예측값 : tensor([[151.7086]], grad_fn=<AddmmBackward0>)\n"
     ]
    }
   ],
   "source": [
    "# 임의의 입력 [73, 80, 75]를 선언\n",
    "new_var =  torch.FloatTensor([[73, 80, 75]])\n",
    "# 입력한 값 [73, 80, 75]에 대해서 예측값 y를 리턴받아서 pred_y에 저장\n",
    "pred_y = model(new_var)\n",
    "print(\"훈련 후 입력이 73, 80, 75일 때의 예측값 :\", pred_y)"
   ]
  },
  {
   "cell_type": "code",
   "execution_count": 22,
   "metadata": {},
   "outputs": [
    {
     "name": "stdout",
     "output_type": "stream",
     "text": [
      "[Parameter containing:\n",
      "tensor([[0.7596, 0.5041, 0.7486]], requires_grad=True), Parameter containing:\n",
      "tensor([-0.2157], requires_grad=True)]\n"
     ]
    }
   ],
   "source": [
    "print(list(model.parameters()))"
   ]
  },
  {
   "cell_type": "code",
   "execution_count": 23,
   "metadata": {},
   "outputs": [],
   "source": [
    "# 모델을 클래스로 구현하기\n",
    "\n",
    "class LinearRegressionModel(nn.Module): # torch.nn.Module을 상속받는 파이썬 클래스\n",
    "    def __init__(self):\n",
    "        super().__init__()\n",
    "        self.linear = nn.Linear(1,1)\n",
    "\n",
    "    def forward(self, x):\n",
    "        return self.linear(x)"
   ]
  },
  {
   "cell_type": "code",
   "execution_count": 24,
   "metadata": {},
   "outputs": [],
   "source": [
    "model = LinearRegressionModel()"
   ]
  },
  {
   "cell_type": "code",
   "execution_count": 25,
   "metadata": {},
   "outputs": [],
   "source": [
    "# 다중 선형회귀 클래스로 구현\n",
    "class MultivariateLinearRegressionModel(nn.Module):\n",
    "    def __init__(self):\n",
    "        super().__init__()\n",
    "        self.linear = nn.Linear(3,1)\n",
    "\n",
    "    def forward(self, x):\n",
    "        return self.linear(x)\n",
    "\n",
    "model = MultivariateLinearRegressionModel()"
   ]
  },
  {
   "cell_type": "code",
   "execution_count": 26,
   "metadata": {},
   "outputs": [],
   "source": [
    "# 03-04 Mini Batch and DataLoader\n",
    "from torch.utils.data import TensorDataset\n",
    "from torch.utils.data import DataLoader\n",
    "\n",
    "\n",
    "\n",
    "x_train  =  torch.FloatTensor([[73,  80,  75],\n",
    "                               [93,  88,  93],\n",
    "                               [89,  91,  90],\n",
    "                               [96,  98,  100],\n",
    "                               [73,  66,  70]])\n",
    "y_train  =  torch.FloatTensor([[152],  [185],  [180],  [196],  [142]])"
   ]
  },
  {
   "cell_type": "code",
   "execution_count": 27,
   "metadata": {},
   "outputs": [],
   "source": [
    "dataset = TensorDataset(x_train, y_train)\n",
    "dataloader = DataLoader(dataset, batch_size=2, shuffle=True)\n",
    "model = nn.Linear(3,1)\n",
    "optimizer = torch.optim.SGD(model.parameters(), lr=1e-5)"
   ]
  },
  {
   "cell_type": "code",
   "execution_count": 28,
   "metadata": {},
   "outputs": [
    {
     "name": "stdout",
     "output_type": "stream",
     "text": [
      "Epoch    0/20 Batch 1/3 Cost: 46380.019531\n",
      "Epoch    0/20 Batch 2/3 Cost: 20313.339844\n",
      "Epoch    0/20 Batch 3/3 Cost: 6635.396973\n",
      "Epoch    1/20 Batch 1/3 Cost: 1607.853516\n",
      "Epoch    1/20 Batch 2/3 Cost: 330.187775\n",
      "Epoch    1/20 Batch 3/3 Cost: 85.304123\n",
      "Epoch    2/20 Batch 1/3 Cost: 50.594917\n",
      "Epoch    2/20 Batch 2/3 Cost: 9.879074\n",
      "Epoch    2/20 Batch 3/3 Cost: 11.024374\n",
      "Epoch    3/20 Batch 1/3 Cost: 0.413609\n",
      "Epoch    3/20 Batch 2/3 Cost: 3.910518\n",
      "Epoch    3/20 Batch 3/3 Cost: 0.422770\n",
      "Epoch    4/20 Batch 1/3 Cost: 0.359748\n",
      "Epoch    4/20 Batch 2/3 Cost: 2.718346\n",
      "Epoch    4/20 Batch 3/3 Cost: 0.771725\n",
      "Epoch    5/20 Batch 1/3 Cost: 0.125672\n",
      "Epoch    5/20 Batch 2/3 Cost: 1.914474\n",
      "Epoch    5/20 Batch 3/3 Cost: 1.032455\n",
      "Epoch    6/20 Batch 1/3 Cost: 1.331316\n",
      "Epoch    6/20 Batch 2/3 Cost: 1.266491\n",
      "Epoch    6/20 Batch 3/3 Cost: 0.000096\n",
      "Epoch    7/20 Batch 1/3 Cost: 1.861683\n",
      "Epoch    7/20 Batch 2/3 Cost: 0.572785\n",
      "Epoch    7/20 Batch 3/3 Cost: 0.000053\n",
      "Epoch    8/20 Batch 1/3 Cost: 0.724831\n",
      "Epoch    8/20 Batch 2/3 Cost: 0.698946\n",
      "Epoch    8/20 Batch 3/3 Cost: 2.612138\n",
      "Epoch    9/20 Batch 1/3 Cost: 2.120145\n",
      "Epoch    9/20 Batch 2/3 Cost: 0.173839\n",
      "Epoch    9/20 Batch 3/3 Cost: 1.086288\n",
      "Epoch   10/20 Batch 1/3 Cost: 1.364515\n",
      "Epoch   10/20 Batch 2/3 Cost: 1.143826\n",
      "Epoch   10/20 Batch 3/3 Cost: 0.443231\n",
      "Epoch   11/20 Batch 1/3 Cost: 0.997886\n",
      "Epoch   11/20 Batch 2/3 Cost: 1.591416\n",
      "Epoch   11/20 Batch 3/3 Cost: 0.003569\n",
      "Epoch   12/20 Batch 1/3 Cost: 1.536731\n",
      "Epoch   12/20 Batch 2/3 Cost: 0.749273\n",
      "Epoch   12/20 Batch 3/3 Cost: 1.684577\n",
      "Epoch   13/20 Batch 1/3 Cost: 2.907845\n",
      "Epoch   13/20 Batch 2/3 Cost: 1.225242\n",
      "Epoch   13/20 Batch 3/3 Cost: 0.137201\n",
      "Epoch   14/20 Batch 1/3 Cost: 0.121358\n",
      "Epoch   14/20 Batch 2/3 Cost: 1.905310\n",
      "Epoch   14/20 Batch 3/3 Cost: 1.036055\n",
      "Epoch   15/20 Batch 1/3 Cost: 1.151236\n",
      "Epoch   15/20 Batch 2/3 Cost: 0.607805\n",
      "Epoch   15/20 Batch 3/3 Cost: 2.410937\n",
      "Epoch   16/20 Batch 1/3 Cost: 0.699386\n",
      "Epoch   16/20 Batch 2/3 Cost: 2.703748\n",
      "Epoch   16/20 Batch 3/3 Cost: 0.962606\n",
      "Epoch   17/20 Batch 1/3 Cost: 0.932703\n",
      "Epoch   17/20 Batch 2/3 Cost: 2.755823\n",
      "Epoch   17/20 Batch 3/3 Cost: 0.025944\n",
      "Epoch   18/20 Batch 1/3 Cost: 0.749166\n",
      "Epoch   18/20 Batch 2/3 Cost: 1.006231\n",
      "Epoch   18/20 Batch 3/3 Cost: 2.537802\n",
      "Epoch   19/20 Batch 1/3 Cost: 1.560303\n",
      "Epoch   19/20 Batch 2/3 Cost: 1.547684\n",
      "Epoch   19/20 Batch 3/3 Cost: 1.328881\n",
      "Epoch   20/20 Batch 1/3 Cost: 1.676015\n",
      "Epoch   20/20 Batch 2/3 Cost: 1.962141\n",
      "Epoch   20/20 Batch 3/3 Cost: 0.068689\n"
     ]
    }
   ],
   "source": [
    "\t\n",
    "\n",
    "nb_epochs = 20\n",
    "for epoch in range(nb_epochs + 1):\n",
    "  for batch_idx, samples in enumerate(dataloader): # 미니 배치 별로 계산\n",
    "    # print(batch_idx)\n",
    "    # print(samples)\n",
    "    x_train, y_train = samples\n",
    "    # H(x) 계산\n",
    "    prediction = model(x_train)\n",
    "\n",
    "    # cost 계산\n",
    "    cost = F.mse_loss(prediction, y_train)\n",
    "\n",
    "    # cost로 H(x) 계산\n",
    "    optimizer.zero_grad()\n",
    "    cost.backward()\n",
    "    optimizer.step()\n",
    "\n",
    "    print('Epoch {:4d}/{} Batch {}/{} Cost: {:.6f}'.format(\n",
    "        epoch, nb_epochs, batch_idx+1, len(dataloader),\n",
    "        cost.item()\n",
    "        ))"
   ]
  },
  {
   "cell_type": "code",
   "execution_count": 29,
   "metadata": {},
   "outputs": [
    {
     "name": "stdout",
     "output_type": "stream",
     "text": [
      "훈련 후 입력이 73, 80, 75일 때의 예측값 : tensor([[151.8289]], grad_fn=<AddmmBackward0>)\n"
     ]
    }
   ],
   "source": [
    "\n",
    "# 임의의 입력 [73, 80, 75]를 선언\n",
    "new_var =  torch.FloatTensor([[73, 80, 75]])\n",
    "# 입력한 값 [73, 80, 75]에 대해서 예측값 y를 리턴받아서 pred_y에 저장\n",
    "pred_y = model(new_var)\n",
    "print(\"훈련 후 입력이 73, 80, 75일 때의 예측값 :\", pred_y)"
   ]
  },
  {
   "cell_type": "code",
   "execution_count": 31,
   "metadata": {},
   "outputs": [],
   "source": [
    "# Custom Dataset 으로 선형회귀 구현\n",
    "# Dataset 상속\n",
    "from torch.utils.data import Dataset\n",
    "class CustomDataset(Dataset):\n",
    "    def __init__(self):\n",
    "        self.x_data = [[73, 80, 75],\n",
    "                       [93, 88, 93],\n",
    "                       [89, 91, 90],\n",
    "                       [96, 98, 100],\n",
    "                       [73, 66, 70]]\n",
    "        self.y_data = [[152], [185], [180], [196], [142]]\n",
    "\n",
    "    def __len__(self):\n",
    "        return len(self.x_data)\n",
    "\n",
    "    def __getitem__(self, idx):\n",
    "        x = torch.FloatTensor(self.x_data[idx])\n",
    "        y = torch.FloatTensor(self.y_data[idx])\n",
    "        return x, y"
   ]
  },
  {
   "cell_type": "code",
   "execution_count": 32,
   "metadata": {},
   "outputs": [
    {
     "name": "stdout",
     "output_type": "stream",
     "text": [
      "Epoch    0/20 Batch 1/3 Cost: 11408.118164\n",
      "Epoch    0/20 Batch 2/3 Cost: 4223.604980\n",
      "Epoch    0/20 Batch 3/3 Cost: 1974.814819\n",
      "Epoch    1/20 Batch 1/3 Cost: 324.249054\n",
      "Epoch    1/20 Batch 2/3 Cost: 73.079018\n",
      "Epoch    1/20 Batch 3/3 Cost: 21.028164\n",
      "Epoch    2/20 Batch 1/3 Cost: 9.086073\n",
      "Epoch    2/20 Batch 2/3 Cost: 3.780728\n",
      "Epoch    2/20 Batch 3/3 Cost: 0.581914\n",
      "Epoch    3/20 Batch 1/3 Cost: 0.124037\n",
      "Epoch    3/20 Batch 2/3 Cost: 0.772523\n",
      "Epoch    3/20 Batch 3/3 Cost: 1.031804\n",
      "Epoch    4/20 Batch 1/3 Cost: 0.321776\n",
      "Epoch    4/20 Batch 2/3 Cost: 0.535748\n",
      "Epoch    4/20 Batch 3/3 Cost: 0.742123\n",
      "Epoch    5/20 Batch 1/3 Cost: 0.950820\n",
      "Epoch    5/20 Batch 2/3 Cost: 0.509644\n",
      "Epoch    5/20 Batch 3/3 Cost: 0.511853\n",
      "Epoch    6/20 Batch 1/3 Cost: 0.583526\n",
      "Epoch    6/20 Batch 2/3 Cost: 0.568336\n",
      "Epoch    6/20 Batch 3/3 Cost: 1.151587\n",
      "Epoch    7/20 Batch 1/3 Cost: 0.556057\n",
      "Epoch    7/20 Batch 2/3 Cost: 0.154402\n",
      "Epoch    7/20 Batch 3/3 Cost: 0.981622\n",
      "Epoch    8/20 Batch 1/3 Cost: 0.547159\n",
      "Epoch    8/20 Batch 2/3 Cost: 0.270372\n",
      "Epoch    8/20 Batch 3/3 Cost: 0.846762\n",
      "Epoch    9/20 Batch 1/3 Cost: 0.658951\n",
      "Epoch    9/20 Batch 2/3 Cost: 0.478150\n",
      "Epoch    9/20 Batch 3/3 Cost: 0.002126\n",
      "Epoch   10/20 Batch 1/3 Cost: 0.529897\n",
      "Epoch   10/20 Batch 2/3 Cost: 1.132739\n",
      "Epoch   10/20 Batch 3/3 Cost: 0.011840\n",
      "Epoch   11/20 Batch 1/3 Cost: 0.334301\n",
      "Epoch   11/20 Batch 2/3 Cost: 0.549644\n",
      "Epoch   11/20 Batch 3/3 Cost: 0.651383\n",
      "Epoch   12/20 Batch 1/3 Cost: 1.022241\n",
      "Epoch   12/20 Batch 2/3 Cost: 0.901086\n",
      "Epoch   12/20 Batch 3/3 Cost: 0.029688\n",
      "Epoch   13/20 Batch 1/3 Cost: 0.483763\n",
      "Epoch   13/20 Batch 2/3 Cost: 0.318592\n",
      "Epoch   13/20 Batch 3/3 Cost: 0.850613\n",
      "Epoch   14/20 Batch 1/3 Cost: 0.399446\n",
      "Epoch   14/20 Batch 2/3 Cost: 0.524007\n",
      "Epoch   14/20 Batch 3/3 Cost: 0.703442\n",
      "Epoch   15/20 Batch 1/3 Cost: 0.690371\n",
      "Epoch   15/20 Batch 2/3 Cost: 0.164990\n",
      "Epoch   15/20 Batch 3/3 Cost: 0.874620\n",
      "Epoch   16/20 Batch 1/3 Cost: 0.143469\n",
      "Epoch   16/20 Batch 2/3 Cost: 1.086788\n",
      "Epoch   16/20 Batch 3/3 Cost: 0.642669\n",
      "Epoch   17/20 Batch 1/3 Cost: 0.530306\n",
      "Epoch   17/20 Batch 2/3 Cost: 0.542094\n",
      "Epoch   17/20 Batch 3/3 Cost: 0.514980\n",
      "Epoch   18/20 Batch 1/3 Cost: 1.176509\n",
      "Epoch   18/20 Batch 2/3 Cost: 0.648507\n",
      "Epoch   18/20 Batch 3/3 Cost: 0.065253\n",
      "Epoch   19/20 Batch 1/3 Cost: 0.555176\n",
      "Epoch   19/20 Batch 2/3 Cost: 0.150181\n",
      "Epoch   19/20 Batch 3/3 Cost: 0.970828\n",
      "Epoch   20/20 Batch 1/3 Cost: 0.165108\n",
      "Epoch   20/20 Batch 2/3 Cost: 0.675541\n",
      "Epoch   20/20 Batch 3/3 Cost: 0.632896\n"
     ]
    }
   ],
   "source": [
    "dataset = CustomDataset()\n",
    "dataloader = DataLoader(dataset, batch_size=2, shuffle=True)\n",
    "\n",
    "model = nn.Linear(3,1)\n",
    "optimizer = torch.optim.SGD(model.parameters(), lr=1e-5)\n",
    "\n",
    "nb_epochs = 20\n",
    "for epoch in range(nb_epochs + 1):\n",
    "  for batch_idx, samples in enumerate(dataloader): # 미니 배치 별로 계산\n",
    "    # print(batch_idx)\n",
    "    # print(samples)\n",
    "    x_train, y_train = samples\n",
    "    # H(x) 계산\n",
    "    prediction = model(x_train)\n",
    "\n",
    "    # cost 계산\n",
    "    cost = F.mse_loss(prediction, y_train)\n",
    "\n",
    "    # cost로 H(x) 계산\n",
    "    optimizer.zero_grad()\n",
    "    cost.backward()\n",
    "    optimizer.step()\n",
    "\n",
    "    print('Epoch {:4d}/{} Batch {}/{} Cost: {:.6f}'.format(\n",
    "        epoch, nb_epochs, batch_idx+1, len(dataloader),\n",
    "        cost.item()\n",
    "        ))"
   ]
  },
  {
   "cell_type": "code",
   "execution_count": null,
   "metadata": {},
   "outputs": [],
   "source": [
    "# 03-05 벡터와 행렬 연산 복습하기"
   ]
  }
 ],
 "metadata": {
  "kernelspec": {
   "display_name": ".venv",
   "language": "python",
   "name": "python3"
  },
  "language_info": {
   "codemirror_mode": {
    "name": "ipython",
    "version": 3
   },
   "file_extension": ".py",
   "mimetype": "text/x-python",
   "name": "python",
   "nbconvert_exporter": "python",
   "pygments_lexer": "ipython3",
   "version": "3.11.9"
  }
 },
 "nbformat": 4,
 "nbformat_minor": 2
}
